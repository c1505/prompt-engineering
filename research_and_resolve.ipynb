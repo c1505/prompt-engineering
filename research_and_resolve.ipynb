{
 "cells": [
  {
   "cell_type": "code",
   "execution_count": null,
   "metadata": {},
   "outputs": [],
   "source": [
    "import openai\n",
    "import datetime\n",
    "import concurrent.futures\n",
    "import os\n",
    "import time"
   ]
  },
  {
   "cell_type": "code",
   "execution_count": null,
   "metadata": {},
   "outputs": [],
   "source": [
    "%load_ext dotenv\n",
    "%dotenv"
   ]
  },
  {
   "cell_type": "code",
   "execution_count": null,
   "metadata": {},
   "outputs": [],
   "source": [
    "def send_message(message, temperature=0.7):\n",
    "    try:\n",
    "        result = openai.ChatCompletion.create(\n",
    "            model=\"gpt-3.5-turbo\",\n",
    "            # model=\"gpt-4\",\n",
    "            temperature=temperature,\n",
    "            messages=[\n",
    "                {\"role\": \"system\", \"content\": \"You are a helpful assistant.\"},\n",
    "                {\"role\": \"user\", \"content\": message}\n",
    "            ]\n",
    "        )\n",
    "        return result.choices[0].message.content\n",
    "    except Exception as e:\n",
    "        print(f\"Error in send_message: {e}\")\n",
    "        return None\n",
    "\n",
    "def retry(func, max_retries=3):\n",
    "    retries = 0\n",
    "    while retries < max_retries:\n",
    "        try:\n",
    "            return func()\n",
    "        except Exception as e:\n",
    "            print(f\"Error: {e}, retrying... ({retries + 1}/{max_retries})\")\n",
    "            retries += 1\n",
    "            time.sleep(1)  # Wait a bit before retrying\n",
    "    raise Exception(f\"Failed after {max_retries} retries.\")\n",
    "\n",
    "def step_by_step_3x(question):\n",
    "    question_and_prompt = f\"\"\"\n",
    "                    {question} Let's work this out in a step by step way to be sure we have the right answer\n",
    "                \"\"\"\n",
    "    try:\n",
    "        with concurrent.futures.ThreadPoolExecutor() as executor:\n",
    "            futures = [executor.submit(send_message, question_and_prompt, 0.9) for _ in range(3)]\n",
    "            responses = [future.result() for future in concurrent.futures.as_completed(futures)]\n",
    "    except:\n",
    "        # If concurrent execution fails, try sequentially\n",
    "        print(\"Error with concurrent execution. Switching to sequential execution.\")\n",
    "        responses = [retry(lambda: send_message(question_and_prompt, 0.9)) for _ in range(3)]\n",
    "\n",
    "    return responses\n"
   ]
  },
  {
   "cell_type": "code",
   "execution_count": null,
   "metadata": {},
   "outputs": [],
   "source": [
    "def researcher(response_1, response_2, response_3):\n",
    "    researcher_prompt = f\"\"\"\n",
    "    You are a researcher tasked with investigating the 3 response options provided.  \n",
    "    List the flaws and faulty logic of each answer option. Let's work this out in a \n",
    "    step by step way to be sure we have all the errors.\n",
    "    \"\"\"\n",
    "    researcher_plus_responses = researcher_prompt + \"response 1: \" + response_1 + \"response 2: \" + response_2 + \"response 3: \" + response_3\n",
    "    result = retry(lambda: send_message(researcher_plus_responses))\n",
    "    return result\n",
    "    "
   ]
  },
  {
   "cell_type": "code",
   "execution_count": null,
   "metadata": {},
   "outputs": [],
   "source": [
    "def resolver(researcher_response, response_1, response_2, response_3):\n",
    "    resolver_prompt = f\"\"\"\n",
    "    You are a resolver tasked with 1) finding which of the 3 answer options the \n",
    "    researcher thought was best. 2) improving that answer, and 3) Printing the improved\n",
    "    answer in full.  Let's work this out in a step by step way to be sure\n",
    "    we have the right answer.\n",
    "    \"\"\"\n",
    "    resolver_prompt_plus_responses = resolver_prompt + \"researcher criticisms: \" + researcher_response + \"\\n orginal responses: \\n\" + \"response 1: \" + response_1 + \"response 2: \" + response_2 + \"response 3: \" + response_3\n",
    "    result = retry(lambda: send_message(resolver_prompt_plus_responses))\n",
    "    return result"
   ]
  },
  {
   "cell_type": "code",
   "execution_count": null,
   "metadata": {},
   "outputs": [],
   "source": [
    "def save_to_file(final_result, question, response_1, response_2, response_3, researcher_result):\n",
    "    \"\"\"Save the result and intermediate steps to a file.\"\"\"\n",
    "    dir_name = \"logs\"\n",
    "    if not os.path.exists(dir_name):\n",
    "        os.mkdir(dir_name)\n",
    "    question_truncated = question.replace(\" \", \"_\")\n",
    "    question_truncated = question_truncated[:40]\n",
    "    now = datetime.datetime.now()\n",
    "    now = now.strftime(\"%Y-%m-%d_%H-%M-%S\")\n",
    "    with open(f\"logs/{question_truncated}_{now}.md\", \"w\") as f:\n",
    "        f.write(f\"\"\"\n",
    "# Question: {question}\n",
    "# responses:\n",
    "## response 1: \n",
    "    {response_1}\n",
    "## response 2:\n",
    "    {response_2}\n",
    "## response 3:\n",
    "    {response_3}\n",
    "# researcher result:\n",
    "    {researcher_result}\n",
    "# final result:\n",
    "    {final_result}\"\"\"\n",
    ")\n"
   ]
  },
  {
   "cell_type": "code",
   "execution_count": null,
   "metadata": {},
   "outputs": [],
   "source": [
    "def full_pipeline(question):\n",
    "    print(\"asking question 3x. question: \", question)\n",
    "    response_1, response_2, response_3 = step_by_step_3x(question)\n",
    "    print(\"researcher step\")\n",
    "    researcher_result = researcher(response_1, response_2, response_3)\n",
    "    print(\"resolver step\")\n",
    "    final_result = resolver(researcher_result, response_1, response_2, response_3)\n",
    "    save_to_file(final_result, question, response_1, response_2, response_3, researcher_result)\n",
    "    return final_result"
   ]
  },
  {
   "cell_type": "code",
   "execution_count": null,
   "metadata": {},
   "outputs": [],
   "source": [
    "question = input(\"Please enter your quesiton for the research and resolver tool: \")\n",
    "print(f\"You entered: {question}\")\n",
    "result = full_pipeline(question)\n",
    "print(result)"
   ]
  }
 ],
 "metadata": {
  "kernelspec": {
   "display_name": "researcher-resolver",
   "language": "python",
   "name": "python3"
  },
  "language_info": {
   "codemirror_mode": {
    "name": "ipython",
    "version": 3
   },
   "file_extension": ".py",
   "mimetype": "text/x-python",
   "name": "python",
   "nbconvert_exporter": "python",
   "pygments_lexer": "ipython3",
   "version": "3.11.3"
  },
  "orig_nbformat": 4
 },
 "nbformat": 4,
 "nbformat_minor": 2
}
